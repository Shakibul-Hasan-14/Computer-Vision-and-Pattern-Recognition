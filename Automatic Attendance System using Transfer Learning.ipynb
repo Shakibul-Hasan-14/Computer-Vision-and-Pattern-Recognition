{
 "cells": [
  {
   "cell_type": "markdown",
   "metadata": {},
   "source": [
    "**Import Necessary Libraries**"
   ]
  },
  {
   "cell_type": "code",
   "execution_count": 1,
   "metadata": {},
   "outputs": [],
   "source": [
    "from tensorflow.keras.preprocessing.image import ImageDataGenerator\n",
    "import tensorflow as tf\n",
    "import seaborn as sns\n",
    "from PIL import Image\n",
    "import numpy as np\n",
    "import glob as gb\n",
    "import keras\n",
    "import time\n",
    "import cv2\n",
    "import os"
   ]
  },
  {
   "cell_type": "markdown",
   "metadata": {},
   "source": [
    "**Import Dataset**"
   ]
  },
  {
   "cell_type": "code",
   "execution_count": 2,
   "metadata": {},
   "outputs": [],
   "source": [
    "data_path = r\"C:\\Users\\shakib\\Downloads\\Group_Dataset\""
   ]
  },
  {
   "cell_type": "markdown",
   "metadata": {},
   "source": [
    "**Declare Variables**"
   ]
  },
  {
   "cell_type": "code",
   "execution_count": 3,
   "metadata": {},
   "outputs": [],
   "source": [
    "IMG_SIZE = 224\n",
    "BATCH_SIZE = 2\n",
    "categories = []\n",
    "class_count = []"
   ]
  },
  {
   "cell_type": "markdown",
   "metadata": {},
   "source": [
    "**Category and Barplot**"
   ]
  },
  {
   "cell_type": "code",
   "execution_count": 4,
   "metadata": {},
   "outputs": [
    {
     "data": {
      "text/plain": [
       "<AxesSubplot: >"
      ]
     },
     "execution_count": 4,
     "metadata": {},
     "output_type": "execute_result"
    },
    {
     "data": {
      "image/png": "[encoded data removed]",
      "text/plain": [
       "<Figure size 640x480 with 1 Axes>"
      ]
     },
     "metadata": {},
     "output_type": "display_data"
    }
   ],
   "source": [
    "no_ofsamples = 0\n",
    "\n",
    "for f in os.listdir(data_path):  \n",
    "    files = gb.glob(pathname=str(data_path + '//' + f + '/*'))\n",
    "    categories.append(f)\n",
    "    class_count = len(files)\n",
    "    no_ofsamples += len(files)\n",
    "\n",
    "sns.barplot(x=categories, y=[len(gb.glob(pathname=str(data_path + '//' + f + '/*'))) for f in categories])"
   ]
  },
  {
   "cell_type": "markdown",
   "metadata": {},
   "source": [
    "**Augmentation**"
   ]
  },
  {
   "cell_type": "code",
   "execution_count": 5,
   "metadata": {},
   "outputs": [],
   "source": [
    "train_gen = ImageDataGenerator (\n",
    "    rotation_range = 40,\n",
    "    width_shift_range = 0.2,\n",
    "    height_shift_range = 0.2,\n",
    "    horizontal_flip = True,\n",
    "    zoom_range = 0.3,\n",
    "    brightness_range=[0.8, 1.2],\n",
    "    preprocessing_function = tf.keras.applications.mobilenet_v2.preprocess_input,\n",
    "    validation_split = 0.2\n",
    ")"
   ]
  },
  {
   "cell_type": "markdown",
   "metadata": {},
   "source": [
    "**Training and Validation Batch**"
   ]
  },
  {
   "cell_type": "code",
   "execution_count": 6,
   "metadata": {},
   "outputs": [
    {
     "name": "stdout",
     "output_type": "stream",
     "text": [
      "Found 12 images belonging to 4 classes.\n",
      "Found 2 images belonging to 4 classes.\n",
      "Training samples: 12\n",
      "Validation samples: 2\n"
     ]
    }
   ],
   "source": [
    "train_batch = train_gen.flow_from_directory(\n",
    "    directory = data_path,\n",
    "    target_size = (IMG_SIZE, IMG_SIZE),\n",
    "    batch_size = BATCH_SIZE,\n",
    "    class_mode = 'sparse',\n",
    "    subset= 'training'\n",
    ")\n",
    "\n",
    "valid_batch =  train_gen.flow_from_directory(\n",
    "    directory = data_path,\n",
    "    target_size = (IMG_SIZE,IMG_SIZE),\n",
    "    batch_size = BATCH_SIZE,\n",
    "    class_mode = 'sparse',\n",
    "    subset= 'validation'\n",
    ")\n",
    "\n",
    "print(f\"Training samples: {train_batch.samples}\")\n",
    "print(f\"Validation samples: {valid_batch.samples}\")"
   ]
  },
  {
   "cell_type": "markdown",
   "metadata": {},
   "source": [
    "**Test Batch Generation**"
   ]
  },
  {
   "cell_type": "code",
   "execution_count": 7,
   "metadata": {},
   "outputs": [
    {
     "name": "stdout",
     "output_type": "stream",
     "text": [
      "First training batch shape: (2, 224, 224, 3), Labels: [0. 2.]\n",
      "First validation batch shape: (2, 224, 224, 3), Labels: [0. 3.]\n"
     ]
    }
   ],
   "source": [
    "batch_x, batch_y = next(train_batch)\n",
    "print(f\"First training batch shape: {batch_x.shape}, Labels: {batch_y}\")\n",
    "\n",
    "batch_x_val, batch_y_val = next(valid_batch)\n",
    "print(f\"First validation batch shape: {batch_x_val.shape}, Labels: {batch_y_val}\")"
   ]
  },
  {
   "cell_type": "markdown",
   "metadata": {},
   "source": [
    "**Transfer Learning**"
   ]
  },
  {
   "cell_type": "code",
   "execution_count": 8,
   "metadata": {},
   "outputs": [
    {
     "name": "stdout",
     "output_type": "stream",
     "text": [
      "Model: \"model\"\n",
      "_________________________________________________________________\n",
      "Layer (type)                 Output Shape              Param #   \n",
      "=================================================================\n",
      "input_2 (InputLayer)         [(None, 224, 224, 3)]     0         \n",
      "_________________________________________________________________\n",
      "mobilenet_1.00_224 (Function (None, 7, 7, 1024)        3228864   \n",
      "_________________________________________________________________\n",
      "global_average_pooling2d (Gl (None, 1024)              0         \n",
      "_________________________________________________________________\n",
      "dense (Dense)                (None, 2048)              2099200   \n",
      "_________________________________________________________________\n",
      "dropout (Dropout)            (None, 2048)              0         \n",
      "_________________________________________________________________\n",
      "dense_1 (Dense)              (None, 1024)              2098176   \n",
      "_________________________________________________________________\n",
      "dropout_1 (Dropout)          (None, 1024)              0         \n",
      "_________________________________________________________________\n",
      "dense_2 (Dense)              (None, 512)               524800    \n",
      "_________________________________________________________________\n",
      "dropout_2 (Dropout)          (None, 512)               0         \n",
      "_________________________________________________________________\n",
      "dense_3 (Dense)              (None, 4)                 2052      \n",
      "=================================================================\n",
      "Total params: 7,953,092\n",
      "Trainable params: 7,931,204\n",
      "Non-trainable params: 21,888\n",
      "_________________________________________________________________\n"
     ]
    }
   ],
   "source": [
    "img_shape = (IMG_SIZE, IMG_SIZE, 3)\n",
    "\n",
    "base_model = tf.keras.applications.MobileNet(input_shape=img_shape, include_top=False, weights='imagenet')\n",
    "\n",
    "inputs = tf.keras.Input(shape=(IMG_SIZE, IMG_SIZE, 3))\n",
    "\n",
    "X = base_model(inputs, training=False)\n",
    "X = tf.keras.layers.GlobalAveragePooling2D()(X)\n",
    "\n",
    "X = tf.keras.layers.Dense(2048, activation='relu')(X)\n",
    "X = tf.keras.layers.Dropout(0.1)(X)  \n",
    "X = tf.keras.layers.Dense(1024, activation='relu')(X)  \n",
    "X = tf.keras.layers.Dropout(0.2)(X)\n",
    "X = tf.keras.layers.Dense(512, activation='relu')(X)  \n",
    "X = tf.keras.layers.Dropout(0.05)(X)\n",
    "\n",
    "output = tf.keras.layers.Dense(4, activation='softmax')(X)  \n",
    "\n",
    "model = tf.keras.Model(inputs, output)\n",
    "\n",
    "model.summary()"
   ]
  },
  {
   "cell_type": "code",
   "execution_count": 9,
   "metadata": {},
   "outputs": [],
   "source": [
    "model.compile (\n",
    "    loss = tf.keras.losses.SparseCategoricalCrossentropy(),\n",
    "    optimizer = tf.keras.optimizers.Adam(learning_rate=0.00001),\n",
    "    metrics=['accuracy'])"
   ]
  },
  {
   "cell_type": "code",
   "execution_count": 10,
   "metadata": {},
   "outputs": [
    {
     "name": "stdout",
     "output_type": "stream",
     "text": [
      "Epoch 1/10\n",
      "6/6 [==============================] - 12s 268ms/step - loss: 1.7925 - accuracy: 0.0000e+00 - val_loss: 1.1542 - val_accuracy: 1.0000\n",
      "Epoch 2/10\n",
      "6/6 [==============================] - 1s 130ms/step - loss: 1.3917 - accuracy: 0.2500 - val_loss: 1.1177 - val_accuracy: 0.5000\n",
      "Epoch 3/10\n",
      "6/6 [==============================] - 1s 159ms/step - loss: 1.2212 - accuracy: 0.5833 - val_loss: 0.8944 - val_accuracy: 1.0000\n",
      "Epoch 4/10\n",
      "6/6 [==============================] - 1s 164ms/step - loss: 0.9979 - accuracy: 0.8333 - val_loss: 1.0587 - val_accuracy: 0.5000\n",
      "Epoch 5/10\n",
      "6/6 [==============================] - 1s 148ms/step - loss: 0.7722 - accuracy: 0.8333 - val_loss: 0.7374 - val_accuracy: 1.0000\n",
      "Epoch 6/10\n",
      "6/6 [==============================] - 1s 157ms/step - loss: 0.8398 - accuracy: 0.7500 - val_loss: 0.6192 - val_accuracy: 1.0000\n",
      "Epoch 7/10\n",
      "6/6 [==============================] - 1s 139ms/step - loss: 0.7401 - accuracy: 0.6667 - val_loss: 0.5513 - val_accuracy: 1.0000\n",
      "Epoch 8/10\n",
      "6/6 [==============================] - 1s 143ms/step - loss: 0.5931 - accuracy: 0.7500 - val_loss: 0.8089 - val_accuracy: 0.5000\n",
      "Epoch 9/10\n",
      "6/6 [==============================] - 1s 152ms/step - loss: 0.5202 - accuracy: 1.0000 - val_loss: 0.3936 - val_accuracy: 1.0000\n",
      "Epoch 10/10\n",
      "6/6 [==============================] - 1s 152ms/step - loss: 0.4910 - accuracy: 0.9167 - val_loss: 0.3727 - val_accuracy: 1.0000\n"
     ]
    }
   ],
   "source": [
    "h = model.fit(\n",
    "    train_batch,  \n",
    "    batch_size=BATCH_SIZE,\n",
    "    epochs=10,\n",
    "    steps_per_epoch=6, \n",
    "    validation_data=valid_batch,  \n",
    "    validation_steps=1\n",
    ")"
   ]
  },
  {
   "cell_type": "markdown",
   "metadata": {},
   "source": [
    "**Webcam Capture**"
   ]
  },
  {
   "cell_type": "code",
   "execution_count": 11,
   "metadata": {},
   "outputs": [
    {
     "name": "stdout",
     "output_type": "stream",
     "text": [
      "Taking a picture in 5 seconds...\n",
      "Predicted Student: SUN\n"
     ]
    }
   ],
   "source": [
    "cap = cv2.VideoCapture(0)\n",
    "\n",
    "print(\"Taking a picture in 5 seconds...\")\n",
    "\n",
    "time.sleep(5)\n",
    "ret, frame = cap.read()\n",
    "\n",
    "if not ret:\n",
    "    print(\"Failed to capture image from webcam. Exiting...\")\n",
    "else:\n",
    "    # Preprocess the frame (resize and normalize)\n",
    "    img = cv2.resize(frame, (IMG_SIZE, IMG_SIZE))\n",
    "    img = np.expand_dims(img, axis=0)\n",
    "    img = tf.keras.applications.mobilenet_v2.preprocess_input(img)\n",
    "    \n",
    "    predictions = model.predict(img)\n",
    "    predicted_class = np.argmax(predictions, axis=-1)\n",
    "    student_name = categories[predicted_class[0]]\n",
    "    \n",
    "    cv2.putText(frame, f\"Student: {student_name}\", (50, 50), cv2.FONT_HERSHEY_SIMPLEX, 1, (0, 255, 0), 2, cv2.LINE_AA)\n",
    "    cv2.imshow('Captured Image - Prediction', frame)\n",
    "    \n",
    "    print(f\"Predicted Student: {student_name}\")\n",
    "    \n",
    "    cv2.waitKey(0)\n",
    "\n",
    "cap.release()\n",
    "cv2.destroyAllWindows()"
   ]
  }
 ],
 "metadata": {
  "kernelspec": {
   "display_name": "Python 3 (ipykernel)",
   "language": "python",
   "name": "python3"
  },
  "language_info": {
   "codemirror_mode": {
    "name": "ipython",
    "version": 3
   },
   "file_extension": ".py",
   "mimetype": "text/x-python",
   "name": "python",
   "nbconvert_exporter": "python",
   "pygments_lexer": "ipython3",
   "version": "3.8.15"
  }
 },
 "nbformat": 4,
 "nbformat_minor": 2
}

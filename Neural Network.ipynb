{
 "cells": [
  {
   "cell_type": "markdown",
   "id": "c2041393",
   "metadata": {},
   "source": [
    "**Import Necessary Libraries**"
   ]
  },
  {
   "cell_type": "code",
   "execution_count": 1,
   "id": "c0f1fc6e",
   "metadata": {},
   "outputs": [],
   "source": [
    "import numpy as np\n",
    "import seaborn as sns\n",
    "import matplotlib.pyplot as plt\n",
    "\n",
    "from sklearn.preprocessing import OneHotEncoder\n",
    "from sklearn.datasets import make_classification\n",
    "from sklearn.model_selection import train_test_split\n",
    "from sklearn.metrics import precision_score, recall_score, f1_score, accuracy_score, confusion_matrix"
   ]
  },
  {
   "cell_type": "markdown",
   "id": "8e1df5f5",
   "metadata": {},
   "source": [
    "**Generate Synthetic Dataset with 5 Classes**"
   ]
  },
  {
   "cell_type": "code",
   "execution_count": 2,
   "id": "38f9ed47",
   "metadata": {},
   "outputs": [],
   "source": [
    "X, Y = make_classification(n_samples=1000, n_features=3, n_informative=3, n_redundant=0, n_repeated=0, \n",
    "                           n_classes=5, n_clusters_per_class=1)"
   ]
  },
  {
   "cell_type": "markdown",
   "id": "a1c01e82",
   "metadata": {},
   "source": [
    "**One-Hot Encode Target Labels**"
   ]
  },
  {
   "cell_type": "code",
   "execution_count": 3,
   "id": "df1ebf29",
   "metadata": {},
   "outputs": [],
   "source": [
    "encoder = OneHotEncoder(sparse_output=False)\n",
    "Y = encoder.fit_transform(Y.reshape(-1, 1))"
   ]
  },
  {
   "cell_type": "markdown",
   "id": "ddb68b6d",
   "metadata": {},
   "source": [
    "**Splitting into Training and Testing Sets**"
   ]
  },
  {
   "cell_type": "code",
   "execution_count": 4,
   "id": "38144335",
   "metadata": {},
   "outputs": [],
   "source": [
    "X_train, X_test, Y_train, Y_test = train_test_split(X, Y, test_size=0.2, random_state=0)"
   ]
  },
  {
   "cell_type": "markdown",
   "id": "bcd8fcfc",
   "metadata": {},
   "source": [
    "**Neural Network**"
   ]
  },
  {
   "cell_type": "code",
   "execution_count": 5,
   "id": "7832bc3b",
   "metadata": {},
   "outputs": [],
   "source": [
    "class NeuralNetwork(object):\n",
    "    def __init__(self):\n",
    "        # Network architecture\n",
    "        inputLayerNeurons = 3\n",
    "        hiddenLayer1Neurons = 10\n",
    "        hiddenLayer2Neurons = 8\n",
    "        hiddenLayer3Neurons = 6\n",
    "        outputLayerNeurons = 5  # 5 classes\n",
    "        \n",
    "        self.learning_rate = 0.05 # Optimizing learning rate\n",
    "        \n",
    "        # Initializing weights\n",
    "        self.W_HI1 = np.random.randn(inputLayerNeurons, hiddenLayer1Neurons)\n",
    "        self.W_HI2 = np.random.randn(hiddenLayer1Neurons, hiddenLayer2Neurons)\n",
    "        self.W_HI3 = np.random.randn(hiddenLayer2Neurons, hiddenLayer3Neurons)\n",
    "        self.W_OH = np.random.randn(hiddenLayer3Neurons, outputLayerNeurons)\n",
    "\n",
    "    def sigmoid(self, x, der=False):\n",
    "        if der:\n",
    "            return x * (1 - x)\n",
    "        else:\n",
    "            return 1 / (1 + np.exp(-x))\n",
    "        \n",
    "    def softmax(self, x):\n",
    "        # Ensuring x is a 2D array\n",
    "        x = np.array(x)\n",
    "        if len(x.shape) == 1:\n",
    "            x = x.reshape(1, -1)  # Adding a batch dimension if it's missing\n",
    "        exp_x = np.exp(x - np.max(x, axis=1, keepdims=True))\n",
    "        return exp_x / np.sum(exp_x, axis=1, keepdims=True)\n",
    "\n",
    "    def cross_entropy_loss(self, Y_true, Y_pred):\n",
    "        # Avoiding log(0) by adding a small constant\n",
    "        Y_pred = np.clip(Y_pred, 1e-12, 1.0)\n",
    "        # Calculating cross-entropy loss\n",
    "        return -np.sum(Y_true * np.log(Y_pred)) / Y_true.shape[0]\n",
    "\n",
    "    def feedForward(self, X):\n",
    "        # Ensuring X is a 2D array\n",
    "        X = np.array(X)\n",
    "        if len(X.shape) == 1:\n",
    "            X = X.reshape(1, -1)  # Adding a batch dimension if it's missing\n",
    "\n",
    "        # Hidden layers\n",
    "        self.hidden_output1 = self.sigmoid(np.dot(X, self.W_HI1))\n",
    "        self.hidden_output2 = self.sigmoid(np.dot(self.hidden_output1, self.W_HI2))\n",
    "        self.hidden_output3 = self.sigmoid(np.dot(self.hidden_output2, self.W_HI3))\n",
    "\n",
    "        # Output layer\n",
    "        output_input = np.dot(self.hidden_output3, self.W_OH)\n",
    "        pred = self.softmax(output_input)\n",
    "        return pred\n",
    "\n",
    "    def backPropagation(self, X, Y, pred):\n",
    "        # Output layer error and delta\n",
    "        output_error = Y - pred\n",
    "        output_delta = self.learning_rate * output_error  # Softmax derivative handled implicitly\n",
    "        \n",
    "        # Hidden layers error and delta\n",
    "        hidden_error3 = output_delta.dot(self.W_OH.T)\n",
    "        hidden_delta3 = self.learning_rate * hidden_error3 * self.sigmoid(self.hidden_output3, der=True)\n",
    "        \n",
    "        hidden_error2 = hidden_delta3.dot(self.W_HI3.T)\n",
    "        hidden_delta2 = self.learning_rate * hidden_error2 * self.sigmoid(self.hidden_output2, der=True)\n",
    "        \n",
    "        hidden_error1 = hidden_delta2.dot(self.W_HI2.T)\n",
    "        hidden_delta1 = self.learning_rate * hidden_error1 * self.sigmoid(self.hidden_output1, der=True)\n",
    "        \n",
    "        # Updating weights\n",
    "        self.W_HI1 += X.T.dot(hidden_delta1)\n",
    "        self.W_HI2 += self.hidden_output1.T.dot(hidden_delta2)\n",
    "        self.W_HI3 += self.hidden_output2.T.dot(hidden_delta3)\n",
    "        self.W_OH += self.hidden_output3.T.dot(output_delta)\n",
    "\n",
    "    def train(self, X, Y):\n",
    "        output = self.feedForward(X)\n",
    "        self.backPropagation(X, Y, output)\n",
    "\n",
    "NN = NeuralNetwork()"
   ]
  },
  {
   "cell_type": "markdown",
   "id": "a2912992",
   "metadata": {},
   "source": [
    "**Training Model**"
   ]
  },
  {
   "cell_type": "code",
   "execution_count": 6,
   "id": "ac472308",
   "metadata": {},
   "outputs": [
    {
     "name": "stdout",
     "output_type": "stream",
     "text": [
      "Epoch 0, Loss: 5.971259681470112\n",
      "Epoch 100, Loss: 1.556959728853418\n",
      "Epoch 200, Loss: 1.604659073216228\n",
      "Epoch 300, Loss: 1.40551347288903\n",
      "Epoch 400, Loss: 1.3241746062721143\n",
      "Epoch 500, Loss: 0.7777657688882291\n",
      "Epoch 600, Loss: 0.7871960986835392\n",
      "Epoch 700, Loss: 0.7073110220375708\n",
      "Epoch 800, Loss: 0.667304990242002\n",
      "Epoch 900, Loss: 0.643700771401074\n",
      "Epoch 1000, Loss: 0.6260885894739826\n",
      "Epoch 1100, Loss: 0.611980975515079\n",
      "Epoch 1200, Loss: 0.6001837641326463\n",
      "Epoch 1300, Loss: 0.5891366680836783\n",
      "Epoch 1400, Loss: 0.5763620596832757\n",
      "Epoch 1500, Loss: 0.5587305105041368\n",
      "Epoch 1600, Loss: 0.5378452761265128\n",
      "Epoch 1700, Loss: 0.5219722414591587\n",
      "Epoch 1800, Loss: 0.5119350867829798\n",
      "Epoch 1900, Loss: 0.504683015166594\n",
      "Epoch 2000, Loss: 0.4987256968707158\n",
      "Epoch 2100, Loss: 0.4935067192419216\n",
      "Epoch 2200, Loss: 0.48876450828470525\n",
      "Epoch 2300, Loss: 0.48435117662442073\n",
      "Epoch 2400, Loss: 0.4801784887543875\n",
      "Epoch 2500, Loss: 0.47619172560376155\n",
      "Epoch 2600, Loss: 0.4723534515840393\n",
      "Epoch 2700, Loss: 0.4686259889417588\n",
      "Epoch 2800, Loss: 0.46493397724020974\n",
      "Epoch 2900, Loss: 0.4610906427213513\n",
      "Epoch 3000, Loss: 0.4567312254990806\n",
      "Epoch 3100, Loss: 0.4513807592146247\n",
      "Epoch 3200, Loss: 0.44458147923052416\n",
      "Epoch 3300, Loss: 0.4356418641465585\n",
      "Epoch 3400, Loss: 0.42372169117299174\n",
      "Epoch 3500, Loss: 0.4125092509898011\n",
      "Epoch 3600, Loss: 0.4052986246523361\n",
      "Epoch 3700, Loss: 0.3991551288953938\n",
      "Epoch 3800, Loss: 0.3932453588114386\n",
      "Epoch 3900, Loss: 0.3874573610962915\n",
      "Epoch 4000, Loss: 0.38177068830613037\n",
      "Epoch 4100, Loss: 0.37623538626447706\n",
      "Epoch 4200, Loss: 0.37093822951354966\n",
      "Epoch 4300, Loss: 0.36596125026210996\n",
      "Epoch 4400, Loss: 0.36135164051048263\n",
      "Epoch 4500, Loss: 0.3571116829933759\n",
      "Epoch 4600, Loss: 0.3532062939165667\n",
      "Epoch 4700, Loss: 0.3495795226484205\n",
      "Epoch 4800, Loss: 0.34617169342920223\n",
      "Epoch 4900, Loss: 0.3429318197709062\n",
      "Epoch 5000, Loss: 0.3398232744249215\n",
      "Epoch 5100, Loss: 0.3368236680506159\n",
      "Epoch 5200, Loss: 0.3339215294329773\n",
      "Epoch 5300, Loss: 0.3311122849904713\n",
      "Epoch 5400, Loss: 0.3283948906048559\n",
      "Epoch 5500, Loss: 0.3257693491884882\n",
      "Epoch 5600, Loss: 0.3232347828388719\n",
      "Epoch 5700, Loss: 0.32078771754865426\n",
      "Epoch 5800, Loss: 0.31842078720074807\n",
      "Epoch 5900, Loss: 0.316122978112079\n",
      "Epoch 6000, Loss: 0.3138823399107045\n",
      "Epoch 6100, Loss: 0.31168946631899497\n",
      "Epoch 6200, Loss: 0.30953839756057916\n",
      "Epoch 6300, Loss: 0.30742451689244527\n",
      "Epoch 6400, Loss: 0.30534204723513186\n",
      "Epoch 6500, Loss: 0.30328309273151577\n",
      "Epoch 6600, Loss: 0.30123848447623797\n",
      "Epoch 6700, Loss: 0.2991999973458624\n",
      "Epoch 6800, Loss: 0.2971631474583608\n",
      "Epoch 6900, Loss: 0.2951291587280958\n",
      "Epoch 7000, Loss: 0.2931044237321292\n",
      "Epoch 7100, Loss: 0.2910969235079066\n",
      "Epoch 7200, Loss: 0.28911130675411567\n",
      "Epoch 7300, Loss: 0.28714568692392545\n",
      "Epoch 7400, Loss: 0.28519228583702\n",
      "Epoch 7500, Loss: 0.2832416215850607\n",
      "Epoch 7600, Loss: 0.28128792964344174\n",
      "Epoch 7700, Loss: 0.2793331399475533\n",
      "Epoch 7800, Loss: 0.27738773692949015\n",
      "Epoch 7900, Loss: 0.2754678269646331\n",
      "Epoch 8000, Loss: 0.27358783729243474\n",
      "Epoch 8100, Loss: 0.27174927239422464\n",
      "Epoch 8200, Loss: 0.2699310775338819\n",
      "Epoch 8300, Loss: 0.26809157325834415\n",
      "Epoch 8400, Loss: 0.2661833363143959\n",
      "Epoch 8500, Loss: 0.26416964229341516\n",
      "Epoch 8600, Loss: 0.2620334317919003\n",
      "Epoch 8700, Loss: 0.2597771830765232\n",
      "Epoch 8800, Loss: 0.25741623114762485\n",
      "Epoch 8900, Loss: 0.25497139364926014\n",
      "Epoch 9000, Loss: 0.2524649217543962\n",
      "Epoch 9100, Loss: 0.24991909638238227\n",
      "Epoch 9200, Loss: 0.24735515034061592\n",
      "Epoch 9300, Loss: 0.2447917817650037\n",
      "Epoch 9400, Loss: 0.24224415125825188\n",
      "Epoch 9500, Loss: 0.2397240941816738\n",
      "Epoch 9600, Loss: 0.2372412414317767\n",
      "Epoch 9700, Loss: 0.23480429439505923\n",
      "Epoch 9800, Loss: 0.23242194458882537\n",
      "Epoch 9900, Loss: 0.2301032755562356\n"
     ]
    }
   ],
   "source": [
    "err = []\n",
    "epochs = 10000\n",
    "for i in range(epochs):\n",
    "    NN.train(X_train, Y_train)\n",
    "    if i % 100 == 0:\n",
    "        pred = NN.feedForward(X_train)\n",
    "        loss = NN.cross_entropy_loss(Y_train, pred)\n",
    "        err.append(loss)\n",
    "        print(f\"Epoch {i}, Loss: {loss}\")"
   ]
  },
  {
   "cell_type": "markdown",
   "id": "d7f9e334",
   "metadata": {},
   "source": [
    "**Plott Loss Over Epochs**"
   ]
  },
  {
   "cell_type": "code",
   "execution_count": 7,
   "id": "55be0ef6",
   "metadata": {},
   "outputs": [
    {
     "data": {
      "image/png": "[encoded data removed]",
      "text/plain": [
       "<Figure size 640x480 with 1 Axes>"
      ]
     },
     "metadata": {},
     "output_type": "display_data"
    }
   ],
   "source": [
    "plt.plot(err)\n",
    "plt.xlabel('Epochs')\n",
    "plt.ylabel('Cross-Entropy Loss')\n",
    "plt.show()"
   ]
  },
  {
   "cell_type": "markdown",
   "id": "7a4bf220",
   "metadata": {},
   "source": [
    "**Test Model**"
   ]
  },
  {
   "cell_type": "code",
   "execution_count": 8,
   "id": "f40d5442",
   "metadata": {},
   "outputs": [],
   "source": [
    "test_predictions = NN.feedForward(X_test)\n",
    "test_predictions = np.argmax(test_predictions, axis=1)\n",
    "Y_test_labels = np.argmax(Y_test, axis=1)"
   ]
  },
  {
   "cell_type": "markdown",
   "id": "798694e9",
   "metadata": {},
   "source": [
    "**Accuracy and Loss**"
   ]
  },
  {
   "cell_type": "code",
   "execution_count": 9,
   "id": "34947324",
   "metadata": {},
   "outputs": [
    {
     "name": "stdout",
     "output_type": "stream",
     "text": [
      "Accuracy: 91.50%\n",
      "Loss: 23.01%\n"
     ]
    }
   ],
   "source": [
    "accuracy = np.mean(test_predictions == Y_test_labels)\n",
    "print(f'Accuracy: {accuracy * 100:.2f}%')\n",
    "print(f'Loss: {loss * 100:.2f}%')"
   ]
  },
  {
   "cell_type": "markdown",
   "id": "241e63e6",
   "metadata": {},
   "source": [
    "**Additional Evaluation**"
   ]
  },
  {
   "cell_type": "code",
   "execution_count": 10,
   "id": "48399ff0",
   "metadata": {},
   "outputs": [
    {
     "name": "stdout",
     "output_type": "stream",
     "text": [
      "Precision per class: [0.86666667 0.93939394 0.89130435 0.97222222 0.925     ]\n",
      "Recall per class: [0.95121951 0.91176471 0.89130435 0.92105263 0.90243902]\n",
      "F1-Score per class: [0.90697674 0.92537313 0.89130435 0.94594595 0.91358025]\n",
      " \n",
      "Precision: 91.67%\n",
      "Recall: 91.50%\n",
      "F1 Score: 91.53%\n"
     ]
    }
   ],
   "source": [
    "precision = precision_score(Y_test_labels, test_predictions, average=None, zero_division=0)\n",
    "recall = recall_score(Y_test_labels, test_predictions, average=None, zero_division=0)\n",
    "f1 = f1_score(Y_test_labels, test_predictions, average=None, zero_division=0)\n",
    "\n",
    "print(f'Precision per class: {precision}')\n",
    "print(f'Recall per class: {recall}')\n",
    "print(f'F1-Score per class: {f1}')\n",
    "\n",
    "print(' ')\n",
    "\n",
    "precision = precision_score(Y_test_labels, test_predictions, average='weighted')\n",
    "recall = recall_score(Y_test_labels, test_predictions, average='weighted')\n",
    "f1 = f1_score(Y_test_labels, test_predictions, average='weighted')\n",
    "\n",
    "print(f'Precision: {precision * 100:.2f}%')\n",
    "print(f'Recall: {recall * 100:.2f}%')\n",
    "print(f'F1 Score: {f1 * 100:.2f}%')"
   ]
  },
  {
   "cell_type": "markdown",
   "id": "df6c1fdb",
   "metadata": {},
   "source": [
    "**Confusion Matrix**"
   ]
  },
  {
   "cell_type": "code",
   "execution_count": 11,
   "id": "083c3215",
   "metadata": {},
   "outputs": [
    {
     "data": {
      "image/png": "[encoded data removed]",
      "text/plain": [
       "<Figure size 640x480 with 2 Axes>"
      ]
     },
     "metadata": {},
     "output_type": "display_data"
    }
   ],
   "source": [
    "conf_matrix = confusion_matrix(Y_test_labels, test_predictions)\n",
    "sns.heatmap(conf_matrix, annot=True, fmt=\"d\", cmap=\"Reds\")\n",
    "plt.title(\"Confusion Matrix\")\n",
    "plt.xlabel(\"Predicted Class\")\n",
    "plt.ylabel(\"True Class\")\n",
    "plt.show()"
   ]
  },
  {
   "cell_type": "markdown",
   "id": "f6ac3f25",
   "metadata": {},
   "source": [
    "# Code Description\n",
    "All necessary libraries are imported which are used throughout the project. A synthetic dataset of 1000 samples with 5 distinct classes is generated using `make_classification` library. The `OneHotEncoder` is used to transform the class labels into a format suitable for multi-class classification. The dataset is then divided in train and test in 80-20 proportion. The neural network's architecture is modified to include three hidden layers, each using the sigmoid activation function, while the output layer uses softmax to convert predictions into class probabilities. Cross-entropy loss is implemented to calculate the error. During backpropagation, the network's weights were updated by computing the gradients layer-by-layer. The model was trained for 10,000 epochs with a learning rate of 0.05.  Precision, recall, and F1-scores were calculated, indicating the model's performance across all classes and the confusion matrix provided additional insight into the network’s predictions, helping to identify any misclassifications.\n",
    "\n",
    "# Discussion\n",
    "The dataset is generated with five distinct classes and the network architecture was expanded to include three hidden layers. The output layer is modified to have five neurons to represent one of the classes. A key addition to the model is the use of the softmax activation function in the output layer, which converts the raw output values into class probabilities. The backpropagation algorithm is also adapted to handle multi-class classification by implementing cross-entropy loss, which is more appropriate for this type of problem than mean squared error. Additionally, the learning rate was tuned through experimentation. A learning rate of 0.05 yielded the best performance, with a final loss of around 20%. Finding the right learning rate through trial and error was a challenge, but ultimately helped improve the stability and convergence of the model. After training for 10,000 epochs, the final loss was around 20%, with an accuracy of around 90%. The precision, recall, and F1-score were calculated for each of the five classes and each value was observed to surpass 85%. These metrics indicate that the network was performing well across all classes, with no significant class imbalance or misrepresentation. By tuning the number of neurons in each hidden layer, the network was able to learn more intricate patterns in the data, leading to better accuracy. Upon performance comparison, changing either the learning rate value or the hidden layer neurons' values significantly impacted the results. The project is successfully implemented a three-hidden-layer neural network for multi-class classification. Potential improvements could involve exploring different activation functions in the hidden layers to improve convergence rates or experimenting with more advanced optimization techniques. Additionally, increasing the dataset size or adding more informative features could further enhance the network’s generalization capabilities. It can easily be outlined that fine-tuning model architectures and hyperparameters to achieve optimal performance in multi-class classification tasks is important."
   ]
  }
 ],
 "metadata": {
  "kernelspec": {
   "display_name": "cvpr tf2.4 py3.8",
   "language": "python",
   "name": "cvpr"
  },
  "language_info": {
   "codemirror_mode": {
    "name": "ipython",
    "version": 3
   },
   "file_extension": ".py",
   "mimetype": "text/x-python",
   "name": "python",
   "nbconvert_exporter": "python",
   "pygments_lexer": "ipython3",
   "version": "3.8.15"
  }
 },
 "nbformat": 4,
 "nbformat_minor": 5
}
